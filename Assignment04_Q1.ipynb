{
  "nbformat": 4,
  "nbformat_minor": 0,
  "metadata": {
    "colab": {
      "provenance": []
    },
    "kernelspec": {
      "name": "python3",
      "display_name": "Python 3"
    },
    "language_info": {
      "name": "python"
    }
  },
  "cells": [
    {
      "cell_type": "code",
      "source": [
        "import math"
      ],
      "metadata": {
        "id": "gjkM1IhHH_Ev"
      },
      "execution_count": null,
      "outputs": []
    },
    {
      "cell_type": "code",
      "execution_count": 1,
      "metadata": {
        "id": "9-hbfEaHBRAr"
      },
      "outputs": [],
      "source": [
        "s1 = \"data science is one of the most important courses in computer science\";\n",
        "s2 = \"this is one of the best data science courses\"\n",
        "s3 = \"the data scientists perform data analysis\""
      ]
    },
    {
      "cell_type": "code",
      "source": [
        "len1 = len(s1);\n",
        "len2 = len(s2);\n",
        "len3 = len(s3);"
      ],
      "metadata": {
        "id": "aePpGkyeBre1"
      },
      "execution_count": 2,
      "outputs": []
    },
    {
      "cell_type": "code",
      "source": [
        "sp_s1 = s1.split()\n",
        "sp_s2 = s2.split();\n",
        "sp_s3 = s3.split();"
      ],
      "metadata": {
        "id": "Bwo1YiR4CuBT"
      },
      "execution_count": 4,
      "outputs": []
    },
    {
      "cell_type": "code",
      "source": [
        "def calculate_term_frequency(words_list):\n",
        "    total_words = len(words_list)\n",
        "    word_frequency = {}\n",
        "    for word in words_list:\n",
        "        if word in word_frequency:\n",
        "            word_frequency[word] += 1\n",
        "        else:\n",
        "            word_frequency[word] = 1\n",
        "            term_frequency = {word: freq / total_words for word, freq in word_frequency.items()}\n",
        "    return term_frequency"
      ],
      "metadata": {
        "id": "fvL-d9ViDTh0"
      },
      "execution_count": 13,
      "outputs": []
    },
    {
      "cell_type": "code",
      "source": [
        "tf_s1 = calculate_term_frequency(sp_s1)\n",
        "tf_s2 = calculate_term_frequency(sp_s2)\n",
        "tf_s3 = calculate_term_frequency(sp_s3)\n",
        "print(\"Term Frequency in s1:\", tf_s1)\n",
        "print(\"Term Frequency in s2:\", tf_s2)\n",
        "print(\"Term Frequency in s3:\", tf_s3)"
      ],
      "metadata": {
        "id": "GNkkclROGpLW"
      },
      "execution_count": null,
      "outputs": []
    },
    {
      "cell_type": "code",
      "source": [
        "def calculate_idf(documents):\n",
        "    document_frequency {}\n",
        "\n",
        "    for doc in documents:\n",
        "        words = set(doc.split())\n",
        "        for word in words:\n",
        "            if word in document_frequency:\n",
        "              document_frequency:[word] += 1\n",
        "              else\n",
        "              document_frequency:[word] = 1\n",
        "\n",
        "    total_documents = len(documents)\n",
        "    idf = {word: math.log(total_documents / (document_frequency[word] + 1)) for word in document_frequency}\n",
        "    return idf\n"
      ],
      "metadata": {
        "id": "iHElBhleGuu0"
      },
      "execution_count": null,
      "outputs": []
    },
    {
      "cell_type": "code",
      "source": [
        "documents = [s1, s2, s3];\n",
        "idf_values = calculate_idf(documents)\n",
        "print(\"IDF Values:\")\n",
        "for word, idf in idf_values.items():\n",
        "    print(f\"{word}: {idf}\")"
      ],
      "metadata": {
        "id": "gCYxLByRH2rz"
      },
      "execution_count": null,
      "outputs": []
    },
    {
      "cell_type": "code",
      "source": [
        "tfidf_values = [{word: tf_values[i][word] * idf_values[word] for word in tf_values[i]} for i in range(len(tf_values))]\n",
        "print(\"TF-IDF Values:\")\n",
        "for i, tfidf in enumerate(tfidf_values):\n",
        "    print(f\"TF-IDF Values for Document {i + 1}: {tfidf}\")"
      ],
      "metadata": {
        "id": "BpTr0-H6IVoY"
      },
      "execution_count": null,
      "outputs": []
    },
    {
      "cell_type": "code",
      "source": [],
      "metadata": {
        "id": "9NDNb09tI0mf"
      },
      "execution_count": null,
      "outputs": []
    }
  ]
}