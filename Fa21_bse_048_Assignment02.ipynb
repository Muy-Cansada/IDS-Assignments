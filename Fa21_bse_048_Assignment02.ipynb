{
  "nbformat": 4,
  "nbformat_minor": 0,
  "metadata": {
    "colab": {
      "provenance": []
    },
    "kernelspec": {
      "name": "python3",
      "display_name": "Python 3"
    },
    "language_info": {
      "name": "python"
    }
  },
  "cells": [
    {
      "cell_type": "code",
      "source": [
        "# 30th September 2023\n",
        "# CSC461 – Assignment2 – Regular Expressions\n",
        "# Hamna Shahbaz\n",
        "# Fa21-BSE-048\n",
        "# This assignment includes 10 subtasks that require the use of regular expressions to modify an example text file\n",
        "\n",
        "#Mounting the Colaboratory on drive to access the file\n",
        "from google.colab import drive\n",
        "drive.mount('/content/drive')"
      ],
      "metadata": {
        "colab": {
          "base_uri": "https://localhost:8080/"
        },
        "id": "wm2aXHiXe_fX",
        "outputId": "c62da63f-af8a-439a-903f-310ae3381ba5"
      },
      "execution_count": 57,
      "outputs": [
        {
          "output_type": "stream",
          "name": "stdout",
          "text": [
            "Mounted at /content/drive\n"
          ]
        }
      ]
    },
    {
      "cell_type": "code",
      "source": [
        "#importing regular expressions library and reading from the mounted example-text.text file\n",
        "import re\n",
        "with open('/content/drive/MyDrive/example-text.txt', 'r') as file:\n",
        "  content = file.read()"
      ],
      "metadata": {
        "id": "AiOVfIECfxds"
      },
      "execution_count": 75,
      "outputs": []
    },
    {
      "cell_type": "code",
      "source": [
        "#Task 01: Extract list of all words.\n",
        "#Finding all the words in the text file and printing them in new lines along with their total numbers\n",
        "\n",
        "result = re.findall(\"\\w+\", content);\n",
        "new_text = '\\n'.join(result)\n",
        "print(\"Total words: \" + str(len(new_text)) + \" words\")\n",
        "print(new_text)"
      ],
      "metadata": {
        "id": "o2BdCnqQilq7"
      },
      "execution_count": null,
      "outputs": []
    },
    {
      "cell_type": "code",
      "source": [
        "#Task 02: Extract  list of all words starting with a capital letter.\n",
        "#Finding all the words starting with capital letters in the text file and printing them in new lines along with their total numbers\n",
        "\n",
        "result = re.findall(\"[A-Z]\\w+\", content);\n",
        "new_text = '\\n'.join(result)\n",
        "print(\"Words starting with capital letters: \" + str(len(new_text)) + \" words\")\n",
        "print(new_text)"
      ],
      "metadata": {
        "id": "oZ0CNdU0iv76"
      },
      "execution_count": null,
      "outputs": []
    },
    {
      "cell_type": "code",
      "source": [
        "#Task 03: Extract list of all words of length 5.\n",
        "#Finding all the 5 lettered words in the text file and printing them in new lines along with their total numbers\n",
        "\n",
        "result = re.findall(r'\\b\\w{5}\\b', content)\n",
        "new_text = '\\n'.join(result)\n",
        "print(\"Words with five letters: \" + str(len(new_text)) + \" words\")\n",
        "print(new_text)"
      ],
      "metadata": {
        "id": "tlyJFu5XkmGR"
      },
      "execution_count": null,
      "outputs": []
    },
    {
      "cell_type": "code",
      "source": [
        "#Task 04: Extract list of all words inside double quotes.\n",
        "#Finding all the quotations in the text file and printing them in new lines\n",
        "\n",
        "result = re.findall(r'\"([^\"]+)\"', content)\n",
        "new_text = '\\n'.join(result)\n",
        "print(new_text)"
      ],
      "metadata": {
        "id": "w0_BtTrVlh82"
      },
      "execution_count": null,
      "outputs": []
    },
    {
      "cell_type": "code",
      "source": [
        "#Task 05: Extract list of all vowels.\n",
        "#Finding all the vowels occurences in the text file and printing them\n",
        "result = re.findall('[aeiou]', content)\n",
        "new_text = ', '.join(result)\n",
        "print(\"Vowels used in this text: \" + str(len(new_text)))\n",
        "print(new_text)"
      ],
      "metadata": {
        "id": "THWiZ8zHsVyx"
      },
      "execution_count": null,
      "outputs": []
    },
    {
      "cell_type": "code",
      "source": [
        "#Task 06: Extract list of 3 letter words ending with letter ‘e’.\n",
        "#Finding all the 3 lettered words using words boundary \\b...\\b and printing them in new lines along with their total numbers\n",
        "\n",
        "result = re.findall(r'\\b\\w{2}e\\b', content)\n",
        "new_text = '\\n'.join(result)\n",
        "print(\"3 lettered words ending in 'e': \" + str(len(new_text)) + \" words\")\n",
        "print(new_text)"
      ],
      "metadata": {
        "id": "_qLbeV4As51s"
      },
      "execution_count": null,
      "outputs": []
    },
    {
      "cell_type": "code",
      "source": [
        "#Task 07: Extract list of all words starting and ending with letter ‘b’.\n",
        "#Finding all the words starting AND ending with 'b'\n",
        "\n",
        "result = re.findall(r'\\b[bB]\\w+b\\b', content)\n",
        "#For the words starting OR ending with letter b\n",
        "#result = re.findall(r'\\b[bB]\\w+|\\w+b\\b', content)\n",
        "new_text = '\\n'.join(result)\n",
        "print(\"Words starting and ending with 'b': \" + str(len(new_text)) + \" words\")\n",
        "print(new_text)"
      ],
      "metadata": {
        "id": "SHTWvXAetbLN"
      },
      "execution_count": null,
      "outputs": []
    },
    {
      "cell_type": "code",
      "source": [
        "#Task 08: Remove all the punctuation marks from the text.\n",
        "\n",
        "result = re.sub(r'[.\",;:-]', ' ', content)\n",
        "print(\"--Text without punctuation marks--\\n\\n\")\n",
        "print(result)"
      ],
      "metadata": {
        "id": "rS-bqkXSu6vU"
      },
      "execution_count": null,
      "outputs": []
    },
    {
      "cell_type": "code",
      "source": [
        "#Task 09: Replace all words ending ‘n't’ to their full form ‘not’.\n",
        "\n",
        "#for general n't to not conversion\n",
        "#result = re.sub(r'n\\'t', \" not\", content)\n",
        "new_text = re.sub(r\"ain\\'t\", \" is not\", content)\n",
        "print(new_text)"
      ],
      "metadata": {
        "id": "lXK1THYXyXRx"
      },
      "execution_count": null,
      "outputs": []
    },
    {
      "cell_type": "code",
      "source": [
        "#Task 10:  Replace all the new lines with a single space.\n",
        "\n",
        "result = re.sub('\\n',' ', content)\n",
        "print(result)"
      ],
      "metadata": {
        "id": "taQkIjb-zuEl"
      },
      "execution_count": null,
      "outputs": []
    }
  ]
}