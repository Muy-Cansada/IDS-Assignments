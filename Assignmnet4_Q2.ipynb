{
  "nbformat": 4,
  "nbformat_minor": 0,
  "metadata": {
    "colab": {
      "provenance": []
    },
    "kernelspec": {
      "name": "python3",
      "display_name": "Python 3"
    },
    "language_info": {
      "name": "python"
    }
  },
  "cells": [
    {
      "cell_type": "code",
      "execution_count": 1,
      "metadata": {
        "id": "yCpKR_sCJeni"
      },
      "outputs": [],
      "source": [
        "from collections import Counter\n",
        "import math"
      ]
    },
    {
      "cell_type": "code",
      "source": [
        "s1 = \"data science is one of the most important courses in computer science\"\n",
        "s2 = \"this is one of the best data science courses\"\n",
        "s3 = \"the data scientists perform data analysis\""
      ],
      "metadata": {
        "id": "HSBkJEbZKGxW"
      },
      "execution_count": 2,
      "outputs": []
    },
    {
      "cell_type": "code",
      "source": [
        "tokens_s1 = s1.split()\n",
        "tokens_s2 = s2.split()\n",
        "tokens_s3 = s3.split()"
      ],
      "metadata": {
        "id": "V77wrQXfKP5_"
      },
      "execution_count": 3,
      "outputs": []
    },
    {
      "cell_type": "code",
      "source": [
        "vector_s1 = Counter(tokens_s1);\n",
        "vector_s2 = Counter(tokens_s2);\n",
        "vector_s3 = Counter(tokens_s3);"
      ],
      "metadata": {
        "id": "IaWSLUFmKmDK"
      },
      "execution_count": 4,
      "outputs": []
    },
    {
      "cell_type": "code",
      "source": [
        "def cosine_similarity(vec1, vec2):\n",
        "    intersection = set(vec1.keys()) & set(vec2.keys())\n",
        "    numerator = sum(vec1[word] * vec2[word] for word in intersection)\n",
        "    sum_sq_vec1 = sum(vec1[word] ** 2 for word in vec1.keys())\n",
        "    sum_sq_vec2 = sum(vec2[word] ** 2 for word in vec2.keys())\n",
        "    denominator = math.sqrt(sum_sq_vec1) * math.sqrt(sum_sq_vec2)\n",
        "    if not denominator:\n",
        "        return 0.0\n",
        "    else:\n",
        "        return float(numerator) / denominator"
      ],
      "metadata": {
        "id": "N4YbD5qCKxLa"
      },
      "execution_count": 5,
      "outputs": []
    },
    {
      "cell_type": "code",
      "source": [
        "sim_s1_s2 = cosine_similarity(vector_s1, vector_s2)\n",
        "sim_s1_s3 = cosine_similarity(vector_s1, vector_s3)\n",
        "sim_s2_s3 = cosine_similarity(vector_s2, vector_s3)\n",
        "\n",
        "# Display cosine similarity results\n",
        "print(\"Cosine Similarity between s1 and s2:\", sim_s1_s2)\n",
        "print(\"Cosine Similarity between s1 and s3:\", sim_s1_s3)\n",
        "print(\"Cosine Similarity between s2 and s3:\", sim_s2_s3)"
      ],
      "metadata": {
        "colab": {
          "base_uri": "https://localhost:8080/"
        },
        "id": "Uj3-GUSIK1tn",
        "outputId": "8d8027e3-c665-4cce-b445-f96b068259a7"
      },
      "execution_count": 6,
      "outputs": [
        {
          "output_type": "stream",
          "name": "stdout",
          "text": [
            "Cosine Similarity between s1 and s2: 0.7126966450997984\n",
            "Cosine Similarity between s1 and s3: 0.2834733547569204\n",
            "Cosine Similarity between s2 and s3: 0.35355339059327373\n"
          ]
        }
      ]
    }
  ]
}